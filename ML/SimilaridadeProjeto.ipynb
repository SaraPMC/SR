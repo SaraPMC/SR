{
 "cells": [
  {
   "cell_type": "code",
   "execution_count": null,
   "id": "1ba2c606",
   "metadata": {},
   "outputs": [],
   "source": [
    "# Sistema de Recomendação"
   ]
  },
  {
   "cell_type": "code",
   "execution_count": null,
   "id": "8e3d5c7c",
   "metadata": {},
   "outputs": [],
   "source": [
    "Importando o sistema de recomendação: suas funções e banco de dados"
   ]
  },
  {
   "cell_type": "code",
   "execution_count": 1,
   "id": "7ba69958",
   "metadata": {},
   "outputs": [],
   "source": [
    "from recomendacao import *\n",
    "import matplotlib.pyplot as plt\n",
    "import pandas as pd"
   ]
  },
  {
   "cell_type": "code",
   "execution_count": 2,
   "id": "86e5a069",
   "metadata": {},
   "outputs": [
    {
     "ename": "SyntaxError",
     "evalue": "invalid syntax (<ipython-input-2-99ad29948eba>, line 1)",
     "output_type": "error",
     "traceback": [
      "\u001b[0;36m  File \u001b[0;32m\"<ipython-input-2-99ad29948eba>\"\u001b[0;36m, line \u001b[0;32m1\u001b[0m\n\u001b[0;31m    Dicionário com os investimentos no banco de dados\u001b[0m\n\u001b[0m               ^\u001b[0m\n\u001b[0;31mSyntaxError\u001b[0m\u001b[0;31m:\u001b[0m invalid syntax\n"
     ]
    }
   ],
   "source": [
    "Dicionário com os investimentos no banco de dados"
   ]
  },
  {
   "cell_type": "code",
   "execution_count": 3,
   "id": "ef0a943d",
   "metadata": {},
   "outputs": [
    {
     "data": {
      "text/plain": [
       "{'Model': {'Ações de empresas',\n",
       "  'CDB',\n",
       "  'Fundos de Investimentos',\n",
       "  'LCI e LCA',\n",
       "  'Poupanca',\n",
       "  'TesouroDireto'}}"
      ]
     },
     "execution_count": 3,
     "metadata": {},
     "output_type": "execute_result"
    }
   ],
   "source": [
    "avaliacoesModel"
   ]
  },
  {
   "cell_type": "code",
   "execution_count": null,
   "id": "42294ab6",
   "metadata": {},
   "outputs": [],
   "source": [
    "Banco de dados com usuários (Nome de Usuários, Filmes vistos e notas adicionadas) - Formato Dicionário"
   ]
  },
  {
   "cell_type": "code",
   "execution_count": 4,
   "id": "2e51702b",
   "metadata": {},
   "outputs": [
    {
     "data": {
      "text/plain": [
       "{'Ana': {'TesouroDireto': 2.5,\n",
       "  'CDB': 3.5,\n",
       "  'LCI e LCA': 3.0,\n",
       "  'Ações de empresas': 3.0,\n",
       "  'Fundos de Investimentos': 3.5,\n",
       "  'Poupanca': 2.5},\n",
       " 'Marcos': {'TesouroDireto': 3.0,\n",
       "  'CDB': 3.5,\n",
       "  'LCI e LCA': 1.5,\n",
       "  'Ações de empresas': 3.0,\n",
       "  'Fundos de Investimentos': 5.0,\n",
       "  'Poupanca': 3.5},\n",
       " 'Pedro': {'TesouroDireto': 2.5,\n",
       "  'CDB': 3.0,\n",
       "  'Ações de empresas': 4.0,\n",
       "  'Fundos de Investimentos': 3.5},\n",
       " 'Claudia': {'CDB': 3.5,\n",
       "  'LCI e LCA': 3.0,\n",
       "  'Ações de empresas': 4.5,\n",
       "  'Fundos de Investimentos': 4.0,\n",
       "  'Poupanca': 2.5},\n",
       " 'Adriano': {'TesouroDireto': 3.0,\n",
       "  'CDB': 4.0,\n",
       "  'LCI e LCA': 2.0,\n",
       "  'Ações de empresas': 3.0,\n",
       "  'Fundos de Investimentos': 3.0,\n",
       "  'Poupanca': 2.0},\n",
       " 'Janaina': {'TesouroDireto': 3.0,\n",
       "  'CDB': 4.0,\n",
       "  'Ações de empresas': 3.0,\n",
       "  'Fundos de Investimentos': 5.0,\n",
       "  'Poupanca': 3.5},\n",
       " 'Leonardo': {'CDB': 4.5, 'Fundos de Investimentos': 4.0, 'Poupanca': 1.0}}"
      ]
     },
     "execution_count": 4,
     "metadata": {},
     "output_type": "execute_result"
    }
   ],
   "source": [
    "avaliacoesUsers"
   ]
  },
  {
   "cell_type": "code",
   "execution_count": 5,
   "id": "aca24781",
   "metadata": {},
   "outputs": [
    {
     "data": {
      "text/html": [
       "<div>\n",
       "<style scoped>\n",
       "    .dataframe tbody tr th:only-of-type {\n",
       "        vertical-align: middle;\n",
       "    }\n",
       "\n",
       "    .dataframe tbody tr th {\n",
       "        vertical-align: top;\n",
       "    }\n",
       "\n",
       "    .dataframe thead th {\n",
       "        text-align: right;\n",
       "    }\n",
       "</style>\n",
       "<table border=\"1\" class=\"dataframe\">\n",
       "  <thead>\n",
       "    <tr style=\"text-align: right;\">\n",
       "      <th></th>\n",
       "      <th>Ana</th>\n",
       "      <th>Marcos</th>\n",
       "      <th>Pedro</th>\n",
       "      <th>Claudia</th>\n",
       "      <th>Adriano</th>\n",
       "      <th>Janaina</th>\n",
       "      <th>Leonardo</th>\n",
       "    </tr>\n",
       "  </thead>\n",
       "  <tbody>\n",
       "    <tr>\n",
       "      <th>0</th>\n",
       "      <td>{'TesouroDireto': 2.5, 'CDB': 3.5, 'LCI e LCA'...</td>\n",
       "      <td>{'TesouroDireto': 3.0, 'CDB': 3.5, 'LCI e LCA'...</td>\n",
       "      <td>{'TesouroDireto': 2.5, 'CDB': 3.0, 'Ações de e...</td>\n",
       "      <td>{'CDB': 3.5, 'LCI e LCA': 3.0, 'Ações de empre...</td>\n",
       "      <td>{'TesouroDireto': 3.0, 'CDB': 4.0, 'LCI e LCA'...</td>\n",
       "      <td>{'TesouroDireto': 3.0, 'CDB': 4.0, 'Ações de e...</td>\n",
       "      <td>{'CDB': 4.5, 'Fundos de Investimentos': 4.0, '...</td>\n",
       "    </tr>\n",
       "  </tbody>\n",
       "</table>\n",
       "</div>"
      ],
      "text/plain": [
       "                                                 Ana  \\\n",
       "0  {'TesouroDireto': 2.5, 'CDB': 3.5, 'LCI e LCA'...   \n",
       "\n",
       "                                              Marcos  \\\n",
       "0  {'TesouroDireto': 3.0, 'CDB': 3.5, 'LCI e LCA'...   \n",
       "\n",
       "                                               Pedro  \\\n",
       "0  {'TesouroDireto': 2.5, 'CDB': 3.0, 'Ações de e...   \n",
       "\n",
       "                                             Claudia  \\\n",
       "0  {'CDB': 3.5, 'LCI e LCA': 3.0, 'Ações de empre...   \n",
       "\n",
       "                                             Adriano  \\\n",
       "0  {'TesouroDireto': 3.0, 'CDB': 4.0, 'LCI e LCA'...   \n",
       "\n",
       "                                             Janaina  \\\n",
       "0  {'TesouroDireto': 3.0, 'CDB': 4.0, 'Ações de e...   \n",
       "\n",
       "                                            Leonardo  \n",
       "0  {'CDB': 4.5, 'Fundos de Investimentos': 4.0, '...  "
      ]
     },
     "execution_count": 5,
     "metadata": {},
     "output_type": "execute_result"
    }
   ],
   "source": [
    "df = pd.DataFrame([avaliacoesUsers])\n",
    "df"
   ]
  },
  {
   "cell_type": "code",
   "execution_count": null,
   "id": "19ad2642",
   "metadata": {},
   "outputs": [],
   "source": [
    "Banco de dados invertido (Filmes do banco de dados e os usuários qua assistiram o mesmo com suas respectivas notas)"
   ]
  },
  {
   "cell_type": "code",
   "execution_count": 6,
   "id": "32064333",
   "metadata": {},
   "outputs": [
    {
     "data": {
      "text/plain": [
       "{'TesouroDireto': {'Ana': 2.5,\n",
       "  'Marcos:': 3.0,\n",
       "  'Pedro': 2.5,\n",
       "  'Adriano': 3.0,\n",
       "  'Janaina': 3.0},\n",
       " 'CDB': {'Ana': 3.5,\n",
       "  'Marcos': 3.5,\n",
       "  'Pedro': 3.0,\n",
       "  'Claudia': 3.5,\n",
       "  'Adriano': 4.0,\n",
       "  'Janaina': 4.0,\n",
       "  'Leonardo': 4.5},\n",
       " 'LCI e LCA': {'Ana': 3.0, 'Marcos:': 1.5, 'Claudia': 3.0, 'Adriano': 2.0},\n",
       " 'Fundos de Investimentos': {'Ana': 3.5,\n",
       "  'Marcos:': 5.0,\n",
       "  'Pedro': 3.5,\n",
       "  'Claudia': 4.0,\n",
       "  'Adriano': 3.0,\n",
       "  'Janaina': 5.0,\n",
       "  'Leonardo': 4.0},\n",
       " 'Poupanca': {'Ana': 2.5,\n",
       "  'Marcos:': 3.0,\n",
       "  'Claudia': 2.5,\n",
       "  'Adriano': 2.0,\n",
       "  'Janaina': 3.5,\n",
       "  'Leonardo': 1.0},\n",
       " 'Ações de empresas': {'Ana': 3.0,\n",
       "  'Marcos:': 3.5,\n",
       "  'Pedro': 4.0,\n",
       "  'Claudia': 4.5,\n",
       "  'Adriano': 3.0,\n",
       "  'Janaina': 3.0}}"
      ]
     },
     "execution_count": 6,
     "metadata": {},
     "output_type": "execute_result"
    }
   ],
   "source": [
    "avaliacoesInvest"
   ]
  },
  {
   "cell_type": "code",
   "execution_count": null,
   "id": "3c668528",
   "metadata": {},
   "outputs": [],
   "source": [
    "#código de Distância Euclidiana:Utiliza-se o Método de Distância Euclidiana para se obter a similaridade entre usuários.\n",
    "\n"
   ]
  },
  {
   "cell_type": "code",
   "execution_count": 8,
   "id": "5cdb750b",
   "metadata": {},
   "outputs": [
    {
     "data": {
      "image/png": "[encoded data removed]",
      "text/plain": [
       "<Figure size 432x288 with 1 Axes>"
      ]
     },
     "metadata": {
      "needs_background": "light"
     },
     "output_type": "display_data"
    }
   ],
   "source": [
    "x = avaliacoesUsers['Ana']['Fundos de Investimentos'],avaliacoesUsers['Marcos']['Fundos de Investimentos'],avaliacoesUsers['Adriano']['Fundos de Investimentos'],avaliacoesUsers['Claudia']['Fundos de Investimentos']\n",
    "y = avaliacoesUsers['Ana']['CDB'],avaliacoesUsers['Marcos']['CDB'],avaliacoesUsers['Adriano']['CDB'],avaliacoesUsers['Claudia']['CDB']\n",
    "\n",
    "plt.scatter(x,y,c='r')\n",
    "\n",
    "plt.xlabel('x')\n",
    "plt.ylabel('y')\n",
    "plt.title('Gráfico de Dispersão - Fundos de Investimentos x CDB')\n",
    "\n",
    "plt.show()"
   ]
  },
  {
   "cell_type": "code",
   "execution_count": 9,
   "id": "e6801772",
   "metadata": {},
   "outputs": [
    {
     "data": {
      "text/plain": [
       "0.3483314773547883"
      ]
     },
     "execution_count": 9,
     "metadata": {},
     "output_type": "execute_result"
    }
   ],
   "source": [
    "knn(avaliacoesUsers,'Ana', 'Leonardo')"
   ]
  },
  {
   "cell_type": "code",
   "execution_count": 10,
   "id": "2559d95c",
   "metadata": {},
   "outputs": [
    {
     "data": {
      "text/plain": [
       "0.27429188517743175"
      ]
     },
     "execution_count": 10,
     "metadata": {},
     "output_type": "execute_result"
    }
   ],
   "source": [
    "knn(avaliacoesInvest, 'Ações de empresas', 'Fundos de Investimentos')"
   ]
  },
  {
   "cell_type": "code",
   "execution_count": null,
   "id": "69c13dca",
   "metadata": {},
   "outputs": [],
   "source": [
    "# Função de Similaridade:\n",
    "\n",
    "Passa-se um usuário como parâmetro e devolve todos os similares: "
   ]
  },
  {
   "cell_type": "code",
   "execution_count": null,
   "id": "c3106d33",
   "metadata": {},
   "outputs": [],
   "source": [
    "getSim(avaliacoesUsers,'Ana')"
   ]
  },
  {
   "cell_type": "code",
   "execution_count": 11,
   "id": "57f6d590",
   "metadata": {},
   "outputs": [
    {
     "data": {
      "text/plain": [
       "[(0.3761785115301142, 'TesouroDireto'),\n",
       " (0.3266316347104093, 'CDB'),\n",
       " (0.29429805508554946, 'Poupanca'),\n",
       " (0.27429188517743175, 'Fundos de Investimentos'),\n",
       " (0.2708131845707603, 'LCI e LCA')]"
      ]
     },
     "execution_count": 11,
     "metadata": {},
     "output_type": "execute_result"
    }
   ],
   "source": [
    "getSim(avaliacoesInvest,'Ações de empresas')  #Analogamente pode ser feito com um investimento, tendo como retorno todos os investimentos similares"
   ]
  },
  {
   "cell_type": "code",
   "execution_count": 12,
   "id": "04e1bc9f",
   "metadata": {},
   "outputs": [
    {
     "data": {
      "text/plain": [
       "[]"
      ]
     },
     "execution_count": 12,
     "metadata": {},
     "output_type": "execute_result"
    }
   ],
   "source": [
    "getRecomUser(avaliacoesUsers,'Ana') "
   ]
  },
  {
   "cell_type": "code",
   "execution_count": 13,
   "id": "efcc37d5",
   "metadata": {},
   "outputs": [
    {
     "data": {
      "text/plain": [
       "[(3.457128694491423, 'Ações de empresas'),\n",
       " (2.778584003814924, 'TesouroDireto'),\n",
       " (2.422482042361917, 'LCI e LCA')]"
      ]
     },
     "execution_count": 13,
     "metadata": {},
     "output_type": "execute_result"
    }
   ],
   "source": [
    "getRecomUser(avaliacoesUsers,'Leonardo')"
   ]
  },
  {
   "cell_type": "code",
   "execution_count": null,
   "id": "f98969c7",
   "metadata": {},
   "outputs": [],
   "source": []
  }
 ],
 "metadata": {
  "kernelspec": {
   "display_name": "Python 3",
   "language": "python",
   "name": "python3"
  },
  "language_info": {
   "codemirror_mode": {
    "name": "ipython",
    "version": 3
   },
   "file_extension": ".py",
   "mimetype": "text/x-python",
   "name": "python",
   "nbconvert_exporter": "python",
   "pygments_lexer": "ipython3",
   "version": "3.8.8"
  }
 },
 "nbformat": 4,
 "nbformat_minor": 5
}
