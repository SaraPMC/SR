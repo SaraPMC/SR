{
 "cells": [
  {
   "cell_type": "code",
   "execution_count": null,
   "id": "1ba2c606",
   "metadata": {},
   "outputs": [],
   "source": [
    "# Sistema de Recomendação"
   ]
  },
  {
   "cell_type": "code",
   "execution_count": null,
   "id": "8e3d5c7c",
   "metadata": {},
   "outputs": [],
   "source": [
    "Importando o sistema de recomendação: suas funções e banco de dados"
   ]
  },
  {
   "cell_type": "code",
   "execution_count": 1,
   "id": "7ba69958",
   "metadata": {},
   "outputs": [],
   "source": [
    "from recomendacao import *\n",
    "import matplotlib.pyplot as plt\n",
    "import pandas as pd"
   ]
  },
  {
   "cell_type": "code",
   "execution_count": null,
   "id": "86e5a069",
   "metadata": {},
   "outputs": [],
   "source": [
    "Dicionário com os investimentos no banco de dados"
   ]
  },
  {
   "cell_type": "code",
   "execution_count": null,
   "id": "ef0a943d",
   "metadata": {},
   "outputs": [],
   "source": [
    "avaliacoesModel"
   ]
  },
  {
   "cell_type": "code",
   "execution_count": null,
   "id": "42294ab6",
   "metadata": {},
   "outputs": [],
   "source": []
  },
  {
   "cell_type": "code",
   "execution_count": null,
   "id": "2e51702b",
   "metadata": {},
   "outputs": [],
   "source": [
    "avaliacoesUsers"
   ]
  },
  {
   "cell_type": "code",
   "execution_count": null,
   "id": "aca24781",
   "metadata": {},
   "outputs": [],
   "source": [
    "df = pd.DataFrame([avaliacoesUsers])\n",
    "df"
   ]
  },
  {
   "cell_type": "code",
   "execution_count": null,
   "id": "19ad2642",
   "metadata": {},
   "outputs": [],
   "source": []
  },
  {
   "cell_type": "code",
   "execution_count": null,
   "id": "32064333",
   "metadata": {},
   "outputs": [],
   "source": [
    "avaliacoesInvest"
   ]
  },
  {
   "cell_type": "code",
   "execution_count": null,
   "id": "3c668528",
   "metadata": {},
   "outputs": [],
   "source": [
    "#código de Distância Euclidiana:Utiliza-se o Método de Distância Euclidiana para se obter a similaridade entre usuários.\n",
    "\n"
   ]
  },
  {
   "cell_type": "code",
   "execution_count": 10,
   "id": "5cdb750b",
   "metadata": {},
   "outputs": [
    {
     "data": {
      "image/png": "[encoded data removed]",
      "text/plain": [
       "<Figure size 432x288 with 1 Axes>"
      ]
     },
     "metadata": {
      "needs_background": "light"
     },
     "output_type": "display_data"
    }
   ],
   "source": [
    "x = avaliacoesUsers['SARA PINHEIRO']['CDB XPTO'],avaliacoesUsers['IGOR JOHANES']['FII'],avaliacoesUsers['HENRIQUE OLIVEIRA']['MGLU3'],avaliacoesUsers['JOÃO SILVA']['CDB XPTO']\n",
    "y = avaliacoesUsers['SARA PINHEIRO']['LCA EFGH'],avaliacoesUsers['IGOR JOHANES']['EFI123'],avaliacoesUsers['HENRIQUE OLIVEIRA']['VIIA3'],avaliacoesUsers['JOÃO SILVA']['LCI ABCD']\n",
    "\n",
    "plt.scatter(x,y,c='r')\n",
    "\n",
    "plt.xlabel('x')\n",
    "plt.ylabel('y')\n",
    "plt.title('Gráfico de Dispersão')\n",
    "\n",
    "plt.show()"
   ]
  },
  {
   "cell_type": "code",
   "execution_count": null,
   "id": "e6801772",
   "metadata": {},
   "outputs": [],
   "source": [
    "knn(avaliacoesUsers,'SARA PINHEIRO', 'IGOR JOHANES')"
   ]
  },
  {
   "cell_type": "code",
   "execution_count": null,
   "id": "2559d95c",
   "metadata": {},
   "outputs": [],
   "source": [
    "knn(avaliacoesInvest, 'EFI123', 'CDB XPTO')"
   ]
  },
  {
   "cell_type": "code",
   "execution_count": null,
   "id": "69c13dca",
   "metadata": {},
   "outputs": [],
   "source": [
    "# Função de Similaridade:\n",
    "\n",
    "Passa-se um usuário como parâmetro e devolve todos os similares: "
   ]
  },
  {
   "cell_type": "code",
   "execution_count": null,
   "id": "c3106d33",
   "metadata": {},
   "outputs": [],
   "source": [
    "getSim(avaliacoesUsers,'CRISTINA SOUZA')"
   ]
  },
  {
   "cell_type": "code",
   "execution_count": null,
   "id": "57f6d590",
   "metadata": {},
   "outputs": [],
   "source": [
    "getSim(avaliacoesInvest,'EFI123')  #Analogamente pode ser feito com um investimento, tendo como retorno todos os investimentos similares"
   ]
  },
  {
   "cell_type": "code",
   "execution_count": 2,
   "id": "04e1bc9f",
   "metadata": {},
   "outputs": [
    {
     "data": {
      "text/plain": [
       "[(0.6666666666666666, 'IGOR JOHANES'),\n",
       " (0, 'SARA PINHEIRO'),\n",
       " (0, 'RICHARD MOTA'),\n",
       " (0, 'PAULO HENRIQUE'),\n",
       " (0, 'JOÃO SILVA'),\n",
       " (0, 'HENRIQUE OLIVEIRA'),\n",
       " (3.0, 'FII'),\n",
       " (1.5, 'FII3')]"
      ]
     },
     "execution_count": 2,
     "metadata": {},
     "output_type": "execute_result"
    }
   ],
   "source": [
    "getSim(avaliacoesUsers,'CRISTINA SOUZA') + getRecomUser(avaliacoesUsers,'CRISTINA SOUZA') "
   ]
  },
  {
   "cell_type": "code",
   "execution_count": 7,
   "id": "1dcae25d",
   "metadata": {},
   "outputs": [
    {
     "data": {
      "text/plain": [
       "[(1.0, 'PAULO HENRIQUE'),\n",
       " (0.6666666666666666, 'SARA PINHEIRO'),\n",
       " (0.5, 'IGOR JOHANES'),\n",
       " (0, 'JOÃO SILVA'),\n",
       " (0, 'HENRIQUE OLIVEIRA'),\n",
       " (0, 'CRISTINA SOUZA'),\n",
       " (8.0, 'VIIA3'),\n",
       " (4.5, 'FII3'),\n",
       " (3.5, 'EFI123'),\n",
       " (3.0, 'LCI ABCD'),\n",
       " (2.5, 'CDB XPTO')]"
      ]
     },
     "execution_count": 7,
     "metadata": {},
     "output_type": "execute_result"
    }
   ],
   "source": [
    "getSim(avaliacoesUsers,'RICHARD MOTA') + getRecomUser(avaliacoesUsers,'RICHARD MOTA') "
   ]
  },
  {
   "cell_type": "code",
   "execution_count": 6,
   "id": "65337e08",
   "metadata": {},
   "outputs": [
    {
     "data": {
      "text/plain": [
       "[(0.6666666666666666, 'RICHARD MOTA'),\n",
       " (0.6666666666666666, 'PAULO HENRIQUE'),\n",
       " (0.5, 'JOÃO SILVA'),\n",
       " (0, 'IGOR JOHANES'),\n",
       " (0, 'HENRIQUE OLIVEIRA'),\n",
       " (0, 'CRISTINA SOUZA'),\n",
       " (8.0, 'VIIA3'),\n",
       " (6.0, 'FII3'),\n",
       " (4.0, 'FII')]"
      ]
     },
     "execution_count": 6,
     "metadata": {},
     "output_type": "execute_result"
    }
   ],
   "source": [
    "getSim(avaliacoesUsers,'SARA PINHEIRO') + getRecomUser(avaliacoesUsers,'SARA PINHEIRO') "
   ]
  },
  {
   "cell_type": "code",
   "execution_count": 8,
   "id": "28d1f151",
   "metadata": {},
   "outputs": [
    {
     "data": {
      "text/plain": [
       "[(1.0, 'RICHARD MOTA'),\n",
       " (0.6666666666666666, 'SARA PINHEIRO'),\n",
       " (0.18181818181818182, 'IGOR JOHANES'),\n",
       " (0.16666666666666666, 'HENRIQUE OLIVEIRA'),\n",
       " (0, 'JOÃO SILVA'),\n",
       " (0, 'CRISTINA SOUZA'),\n",
       " (4.0, 'CPLE6'),\n",
       " (3.8461538461538454, 'FII'),\n",
       " (3.5, 'EFI123'),\n",
       " (3.0, 'LCI ABCD'),\n",
       " (2.5, 'MGLU3'),\n",
       " (2.5, 'CDB XPTO')]"
      ]
     },
     "execution_count": 8,
     "metadata": {},
     "output_type": "execute_result"
    }
   ],
   "source": [
    "getSim(avaliacoesUsers,'PAULO HENRIQUE') + getRecomUser(avaliacoesUsers,'PAULO HENRIQUE') "
   ]
  },
  {
   "cell_type": "code",
   "execution_count": 3,
   "id": "efcc37d5",
   "metadata": {},
   "outputs": [
    {
     "data": {
      "text/plain": [
       "[(0.5, 'SARA PINHEIRO'),\n",
       " (0, 'RICHARD MOTA'),\n",
       " (0, 'PAULO HENRIQUE'),\n",
       " (0, 'IGOR JOHANES'),\n",
       " (0, 'HENRIQUE OLIVEIRA'),\n",
       " (0, 'CRISTINA SOUZA'),\n",
       " (3.5, 'LCA EFGH')]"
      ]
     },
     "execution_count": 3,
     "metadata": {},
     "output_type": "execute_result"
    }
   ],
   "source": [
    "getSim(avaliacoesUsers,'JOÃO SILVA') + getRecomUser(avaliacoesUsers,'JOÃO SILVA') "
   ]
  },
  {
   "cell_type": "code",
   "execution_count": 4,
   "id": "f98969c7",
   "metadata": {},
   "outputs": [
    {
     "data": {
      "text/plain": [
       "[(0.16666666666666666, 'PAULO HENRIQUE'),\n",
       " (0, 'SARA PINHEIRO'),\n",
       " (0, 'RICHARD MOTA'),\n",
       " (0, 'JOÃO SILVA'),\n",
       " (0, 'IGOR JOHANES'),\n",
       " (0, 'CRISTINA SOUZA'),\n",
       " (6.0, 'FII3'),\n",
       " (3.0, 'LCA EFGH')]"
      ]
     },
     "execution_count": 4,
     "metadata": {},
     "output_type": "execute_result"
    }
   ],
   "source": [
    "getSim(avaliacoesUsers,'HENRIQUE OLIVEIRA') + getRecomUser(avaliacoesUsers,'HENRIQUE OLIVEIRA') "
   ]
  },
  {
   "cell_type": "code",
   "execution_count": 5,
   "id": "f3b09e30",
   "metadata": {},
   "outputs": [
    {
     "data": {
      "text/plain": [
       "[(0.6666666666666666, 'CRISTINA SOUZA'),\n",
       " (0.5, 'RICHARD MOTA'),\n",
       " (0.18181818181818182, 'PAULO HENRIQUE'),\n",
       " (0, 'SARA PINHEIRO'),\n",
       " (0, 'JOÃO SILVA'),\n",
       " (0, 'HENRIQUE OLIVEIRA'),\n",
       " (8.0, 'VIIA3'),\n",
       " (2.9999999999999996, 'LCA EFGH')]"
      ]
     },
     "execution_count": 5,
     "metadata": {},
     "output_type": "execute_result"
    }
   ],
   "source": [
    "getSim(avaliacoesUsers,'IGOR JOHANES') + getRecomUser(avaliacoesUsers,'IGOR JOHANES') "
   ]
  },
  {
   "cell_type": "code",
   "execution_count": null,
   "id": "3c7c928e",
   "metadata": {},
   "outputs": [],
   "source": [
    " # making the data\n",
    "media = {'Name': ['Cristina', 'Joao', 'Henrique', 'Igor', 'Sara', 'Richard',' Paulo' ],\n",
    "          'Similaridade': ['LCA EFGH', 'FII and FII3','Sem recomendacao', 'Sem recomendacao', 'Sem recomendacao', '']}\n",
    "\n",
    "# creating the DataFrame\n",
    "df = pd.DataFrame(media)"
   ]
  },
  {
   "cell_type": "code",
   "execution_count": null,
   "id": "139f03dc",
   "metadata": {},
   "outputs": [],
   "source": [
    "# converting to CSV file\n",
    "df.to_csv(\"Similaridade.csv\")"
   ]
  },
  {
   "cell_type": "code",
   "execution_count": null,
   "id": "05da9f5c",
   "metadata": {},
   "outputs": [],
   "source": [
    "df"
   ]
  },
  {
   "cell_type": "code",
   "execution_count": null,
   "id": "27949c8d",
   "metadata": {},
   "outputs": [],
   "source": []
  }
 ],
 "metadata": {
  "kernelspec": {
   "display_name": "Python 3",
   "language": "python",
   "name": "python3"
  },
  "language_info": {
   "codemirror_mode": {
    "name": "ipython",
    "version": 3
   },
   "file_extension": ".py",
   "mimetype": "text/x-python",
   "name": "python",
   "nbconvert_exporter": "python",
   "pygments_lexer": "ipython3",
   "version": "3.8.8"
  }
 },
 "nbformat": 4,
 "nbformat_minor": 5
}
