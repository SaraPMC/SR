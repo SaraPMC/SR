{
 "cells": [
  {
   "cell_type": "code",
   "execution_count": 1,
   "id": "013a4d1f",
   "metadata": {},
   "outputs": [],
   "source": [
    "import matplotlib.pyplot as plt\n",
    "import pandas as pd"
   ]
  },
  {
   "cell_type": "code",
   "execution_count": 129,
   "id": "73d1189f",
   "metadata": {},
   "outputs": [
    {
     "data": {
      "text/html": [
       "<div>\n",
       "<style scoped>\n",
       "    .dataframe tbody tr th:only-of-type {\n",
       "        vertical-align: middle;\n",
       "    }\n",
       "\n",
       "    .dataframe tbody tr th {\n",
       "        vertical-align: top;\n",
       "    }\n",
       "\n",
       "    .dataframe thead th {\n",
       "        text-align: right;\n",
       "    }\n",
       "</style>\n",
       "<table border=\"1\" class=\"dataframe\">\n",
       "  <thead>\n",
       "    <tr style=\"text-align: right;\">\n",
       "      <th></th>\n",
       "      <th>ID</th>\n",
       "      <th>ID_CLIENTE</th>\n",
       "      <th>ID_PRODUTO</th>\n",
       "      <th>TIPO_TRANSACAO</th>\n",
       "      <th>TIPO_CD</th>\n",
       "      <th>VALOR</th>\n",
       "      <th>DATA</th>\n",
       "      <th>STATUS</th>\n",
       "      <th>ORIGEM</th>\n",
       "      <th>DESTINO</th>\n",
       "      <th>...</th>\n",
       "      <th>DATA_NASCIMENTO</th>\n",
       "      <th>TELEFONE</th>\n",
       "      <th>CELULAR</th>\n",
       "      <th>EMAIL</th>\n",
       "      <th>STATUS.1</th>\n",
       "      <th>ID.2</th>\n",
       "      <th>TIPO</th>\n",
       "      <th>DESCRICAO</th>\n",
       "      <th>VALOR.1</th>\n",
       "      <th>STATUS.2</th>\n",
       "    </tr>\n",
       "  </thead>\n",
       "  <tbody>\n",
       "    <tr>\n",
       "      <th>0</th>\n",
       "      <td>1</td>\n",
       "      <td>1</td>\n",
       "      <td>1</td>\n",
       "      <td>COMPRA</td>\n",
       "      <td>D</td>\n",
       "      <td>1234</td>\n",
       "      <td>2022-05-23 19:07:07</td>\n",
       "      <td>ATIVO</td>\n",
       "      <td>RICO INVESTIMENTOS</td>\n",
       "      <td>NaN</td>\n",
       "      <td>...</td>\n",
       "      <td>1992-09-25 00:00:00</td>\n",
       "      <td>1123456789</td>\n",
       "      <td>11987653210</td>\n",
       "      <td>rm337029@fiap.com.br</td>\n",
       "      <td>ATIVO</td>\n",
       "      <td>1</td>\n",
       "      <td>RENDA FIXA</td>\n",
       "      <td>CDB XPTO</td>\n",
       "      <td>123</td>\n",
       "      <td>ATIVO</td>\n",
       "    </tr>\n",
       "    <tr>\n",
       "      <th>1</th>\n",
       "      <td>2</td>\n",
       "      <td>1</td>\n",
       "      <td>2</td>\n",
       "      <td>COMPRA</td>\n",
       "      <td>D</td>\n",
       "      <td>5677</td>\n",
       "      <td>2022-05-23 19:07:07</td>\n",
       "      <td>ATIVO</td>\n",
       "      <td>RICO INVESTIMENTOS</td>\n",
       "      <td>NaN</td>\n",
       "      <td>...</td>\n",
       "      <td>1992-09-25 00:00:00</td>\n",
       "      <td>1123456789</td>\n",
       "      <td>11987653210</td>\n",
       "      <td>rm337029@fiap.com.br</td>\n",
       "      <td>ATIVO</td>\n",
       "      <td>2</td>\n",
       "      <td>RENDA FIXA</td>\n",
       "      <td>LCI ABCD</td>\n",
       "      <td>456</td>\n",
       "      <td>ATIVO</td>\n",
       "    </tr>\n",
       "    <tr>\n",
       "      <th>2</th>\n",
       "      <td>3</td>\n",
       "      <td>1</td>\n",
       "      <td>3</td>\n",
       "      <td>COMPRA</td>\n",
       "      <td>D</td>\n",
       "      <td>6345</td>\n",
       "      <td>2022-05-23 19:07:07</td>\n",
       "      <td>ATIVO</td>\n",
       "      <td>RICO INVESTIMENTOS</td>\n",
       "      <td>NaN</td>\n",
       "      <td>...</td>\n",
       "      <td>1992-09-25 00:00:00</td>\n",
       "      <td>1123456789</td>\n",
       "      <td>11987653210</td>\n",
       "      <td>rm337029@fiap.com.br</td>\n",
       "      <td>ATIVO</td>\n",
       "      <td>3</td>\n",
       "      <td>RENDA FIXA</td>\n",
       "      <td>LCA EFGH</td>\n",
       "      <td>789</td>\n",
       "      <td>ATIVO</td>\n",
       "    </tr>\n",
       "    <tr>\n",
       "      <th>3</th>\n",
       "      <td>4</td>\n",
       "      <td>2</td>\n",
       "      <td>4</td>\n",
       "      <td>COMPRA</td>\n",
       "      <td>D</td>\n",
       "      <td>324</td>\n",
       "      <td>2022-05-23 19:07:07</td>\n",
       "      <td>ATIVO</td>\n",
       "      <td>XP INVESTIMENTOS</td>\n",
       "      <td>NaN</td>\n",
       "      <td>...</td>\n",
       "      <td>1999-12-05 00:00:00</td>\n",
       "      <td>1153456789</td>\n",
       "      <td>11887653210</td>\n",
       "      <td>rm347029@fiap.com.br</td>\n",
       "      <td>ATIVO</td>\n",
       "      <td>4</td>\n",
       "      <td>RENDA VARIAVEL</td>\n",
       "      <td>FII</td>\n",
       "      <td>123</td>\n",
       "      <td>ATIVO</td>\n",
       "    </tr>\n",
       "    <tr>\n",
       "      <th>4</th>\n",
       "      <td>5</td>\n",
       "      <td>2</td>\n",
       "      <td>5</td>\n",
       "      <td>COMPRA</td>\n",
       "      <td>D</td>\n",
       "      <td>234</td>\n",
       "      <td>2022-05-23 19:07:07</td>\n",
       "      <td>ATIVO</td>\n",
       "      <td>XP INVESTIMENTOS</td>\n",
       "      <td>NaN</td>\n",
       "      <td>...</td>\n",
       "      <td>1999-12-05 00:00:00</td>\n",
       "      <td>1153456789</td>\n",
       "      <td>11887653210</td>\n",
       "      <td>rm347029@fiap.com.br</td>\n",
       "      <td>ATIVO</td>\n",
       "      <td>5</td>\n",
       "      <td>RENDA VARIAVEL</td>\n",
       "      <td>EFI123</td>\n",
       "      <td>123</td>\n",
       "      <td>ATIVO</td>\n",
       "    </tr>\n",
       "  </tbody>\n",
       "</table>\n",
       "<p>5 rows × 24 columns</p>\n",
       "</div>"
      ],
      "text/plain": [
       "   ID  ID_CLIENTE  ID_PRODUTO TIPO_TRANSACAO TIPO_CD  VALOR  \\\n",
       "0   1           1           1         COMPRA       D   1234   \n",
       "1   2           1           2         COMPRA       D   5677   \n",
       "2   3           1           3         COMPRA       D   6345   \n",
       "3   4           2           4         COMPRA       D    324   \n",
       "4   5           2           5         COMPRA       D    234   \n",
       "\n",
       "                  DATA STATUS              ORIGEM  DESTINO  ...  \\\n",
       "0  2022-05-23 19:07:07  ATIVO  RICO INVESTIMENTOS      NaN  ...   \n",
       "1  2022-05-23 19:07:07  ATIVO  RICO INVESTIMENTOS      NaN  ...   \n",
       "2  2022-05-23 19:07:07  ATIVO  RICO INVESTIMENTOS      NaN  ...   \n",
       "3  2022-05-23 19:07:07  ATIVO    XP INVESTIMENTOS      NaN  ...   \n",
       "4  2022-05-23 19:07:07  ATIVO    XP INVESTIMENTOS      NaN  ...   \n",
       "\n",
       "       DATA_NASCIMENTO    TELEFONE      CELULAR                 EMAIL  \\\n",
       "0  1992-09-25 00:00:00  1123456789  11987653210  rm337029@fiap.com.br   \n",
       "1  1992-09-25 00:00:00  1123456789  11987653210  rm337029@fiap.com.br   \n",
       "2  1992-09-25 00:00:00  1123456789  11987653210  rm337029@fiap.com.br   \n",
       "3  1999-12-05 00:00:00  1153456789  11887653210  rm347029@fiap.com.br   \n",
       "4  1999-12-05 00:00:00  1153456789  11887653210  rm347029@fiap.com.br   \n",
       "\n",
       "  STATUS.1  ID.2            TIPO DESCRICAO VALOR.1  STATUS.2  \n",
       "0    ATIVO     1      RENDA FIXA  CDB XPTO     123     ATIVO  \n",
       "1    ATIVO     2      RENDA FIXA  LCI ABCD     456     ATIVO  \n",
       "2    ATIVO     3      RENDA FIXA  LCA EFGH     789     ATIVO  \n",
       "3    ATIVO     4  RENDA VARIAVEL       FII     123     ATIVO  \n",
       "4    ATIVO     5  RENDA VARIAVEL    EFI123     123     ATIVO  \n",
       "\n",
       "[5 rows x 24 columns]"
      ]
     },
     "execution_count": 129,
     "metadata": {},
     "output_type": "execute_result"
    }
   ],
   "source": [
    "data = pd.read_csv(r'C:\\Users\\levino\\OneDrive - CATENO GESTAO DE CONTAS DE PAGAMENTO S.A\\Área de Trabalho\\SR-main\\SR-main\\BD\\TRANSACOES.csv')\n",
    "data.head()"
   ]
  },
  {
   "cell_type": "code",
   "execution_count": 130,
   "id": "d17e81f9",
   "metadata": {},
   "outputs": [],
   "source": [
    "import csv\n",
    "dict_from_csv = {}\n",
    "\n",
    "with open(r'C:\\Users\\levino\\OneDrive - CATENO GESTAO DE CONTAS DE PAGAMENTO S.A\\Área de Trabalho\\SR-main\\SR-main\\BD\\TRANSACOES.csv') as data:\n",
    "   # data.drop(columns=['DATA_NASCIMENTO', 'TELEFONE', 'EMAIL', 'STATUS', 'TIPO_CD', 'TIPO_TRANSACAO', 'STATUS.1', 'ID.2', 'CELULAR', 'DOCUMENTO', 'TIPO_PESSOA', 'STATUS.2', 'ID.1', 'ID', 'ID_CLIENTE', 'ID_PRODUTO', 'VALOR', 'DATA','ORIGEM', 'DESTINO'])\n",
    "    reader = csv.reader(data)\n",
    "    dict_from_csv = {rows[0]:rows[1] for rows in reader}\n",
    "    dict_from_csv"
   ]
  },
  {
   "cell_type": "code",
   "execution_count": 131,
   "id": "51b4f6dd",
   "metadata": {},
   "outputs": [
    {
     "data": {
      "text/plain": [
       "{'ID': 'ID_CLIENTE',\n",
       " '1': '1',\n",
       " '2': '1',\n",
       " '3': '1',\n",
       " '4': '2',\n",
       " '5': '2',\n",
       " '6': '2',\n",
       " '7': '3',\n",
       " '8': '3',\n",
       " '9': '3',\n",
       " '10': '4',\n",
       " '11': '4',\n",
       " '12': '5'}"
      ]
     },
     "execution_count": 131,
     "metadata": {},
     "output_type": "execute_result"
    }
   ],
   "source": [
    "dict_from_csv"
   ]
  },
  {
   "cell_type": "code",
   "execution_count": 104,
   "id": "d6fc3571",
   "metadata": {},
   "outputs": [],
   "source": [
    "dt =data.drop(columns=['DATA_NASCIMENTO','TIPO', 'TELEFONE', 'EMAIL', 'STATUS', 'TIPO_CD', 'TIPO_TRANSACAO', 'STATUS.1', 'ID.2', 'CELULAR', 'DOCUMENTO', 'TIPO_PESSOA', 'STATUS.2', 'ID.1', 'ID', 'ID_CLIENTE', 'ID_PRODUTO', 'VALOR', 'TIPO','DATA','ORIGEM', 'DESTINO'])\n"
   ]
  },
  {
   "cell_type": "code",
   "execution_count": null,
   "id": "5c674c2b",
   "metadata": {},
   "outputs": [],
   "source": []
  },
  {
   "cell_type": "code",
   "execution_count": 105,
   "id": "8070d86a",
   "metadata": {},
   "outputs": [
    {
     "data": {
      "text/html": [
       "<div>\n",
       "<style scoped>\n",
       "    .dataframe tbody tr th:only-of-type {\n",
       "        vertical-align: middle;\n",
       "    }\n",
       "\n",
       "    .dataframe tbody tr th {\n",
       "        vertical-align: top;\n",
       "    }\n",
       "\n",
       "    .dataframe thead th {\n",
       "        text-align: right;\n",
       "    }\n",
       "</style>\n",
       "<table border=\"1\" class=\"dataframe\">\n",
       "  <thead>\n",
       "    <tr style=\"text-align: right;\">\n",
       "      <th></th>\n",
       "      <th>NOME</th>\n",
       "      <th>DESCRICAO</th>\n",
       "      <th>VALOR.1</th>\n",
       "    </tr>\n",
       "  </thead>\n",
       "  <tbody>\n",
       "    <tr>\n",
       "      <th>0</th>\n",
       "      <td>SARA PINHEIRO</td>\n",
       "      <td>CDB XPTO</td>\n",
       "      <td>123</td>\n",
       "    </tr>\n",
       "    <tr>\n",
       "      <th>1</th>\n",
       "      <td>SARA PINHEIRO</td>\n",
       "      <td>LCI ABCD</td>\n",
       "      <td>456</td>\n",
       "    </tr>\n",
       "    <tr>\n",
       "      <th>2</th>\n",
       "      <td>SARA PINHEIRO</td>\n",
       "      <td>LCA EFGH</td>\n",
       "      <td>789</td>\n",
       "    </tr>\n",
       "    <tr>\n",
       "      <th>3</th>\n",
       "      <td>IGOR JOHANES</td>\n",
       "      <td>FII</td>\n",
       "      <td>123</td>\n",
       "    </tr>\n",
       "    <tr>\n",
       "      <th>4</th>\n",
       "      <td>IGOR JOHANES</td>\n",
       "      <td>EFI123</td>\n",
       "      <td>123</td>\n",
       "    </tr>\n",
       "    <tr>\n",
       "      <th>5</th>\n",
       "      <td>IGOR JOHANES</td>\n",
       "      <td>FII3</td>\n",
       "      <td>123</td>\n",
       "    </tr>\n",
       "    <tr>\n",
       "      <th>6</th>\n",
       "      <td>HENRIQUE OLIVEIRA</td>\n",
       "      <td>MGLU3</td>\n",
       "      <td>367</td>\n",
       "    </tr>\n",
       "    <tr>\n",
       "      <th>7</th>\n",
       "      <td>HENRIQUE OLIVEIRA</td>\n",
       "      <td>VIIA3</td>\n",
       "      <td>300</td>\n",
       "    </tr>\n",
       "    <tr>\n",
       "      <th>8</th>\n",
       "      <td>HENRIQUE OLIVEIRA</td>\n",
       "      <td>CPLE6</td>\n",
       "      <td>747</td>\n",
       "    </tr>\n",
       "    <tr>\n",
       "      <th>9</th>\n",
       "      <td>JOÃO SILVA</td>\n",
       "      <td>CDB XPTO</td>\n",
       "      <td>123</td>\n",
       "    </tr>\n",
       "    <tr>\n",
       "      <th>10</th>\n",
       "      <td>JOÃO SILVA</td>\n",
       "      <td>LCI ABCD</td>\n",
       "      <td>456</td>\n",
       "    </tr>\n",
       "    <tr>\n",
       "      <th>11</th>\n",
       "      <td>CRISTINA SOUZA</td>\n",
       "      <td>EFI123</td>\n",
       "      <td>123</td>\n",
       "    </tr>\n",
       "  </tbody>\n",
       "</table>\n",
       "</div>"
      ],
      "text/plain": [
       "                 NOME DESCRICAO  VALOR.1\n",
       "0       SARA PINHEIRO  CDB XPTO      123\n",
       "1       SARA PINHEIRO  LCI ABCD      456\n",
       "2       SARA PINHEIRO  LCA EFGH      789\n",
       "3        IGOR JOHANES       FII      123\n",
       "4        IGOR JOHANES    EFI123      123\n",
       "5        IGOR JOHANES      FII3      123\n",
       "6   HENRIQUE OLIVEIRA     MGLU3      367\n",
       "7   HENRIQUE OLIVEIRA     VIIA3      300\n",
       "8   HENRIQUE OLIVEIRA     CPLE6      747\n",
       "9          JOÃO SILVA  CDB XPTO      123\n",
       "10         JOÃO SILVA  LCI ABCD      456\n",
       "11     CRISTINA SOUZA    EFI123      123"
      ]
     },
     "execution_count": 105,
     "metadata": {},
     "output_type": "execute_result"
    }
   ],
   "source": [
    "dt"
   ]
  },
  {
   "cell_type": "code",
   "execution_count": null,
   "id": "c12a6f62",
   "metadata": {},
   "outputs": [],
   "source": [
    "#filtrando um usuário\n",
    "df_filtro = dt[(dt['NOME']=='SARA PINHEIRO')]"
   ]
  },
  {
   "cell_type": "code",
   "execution_count": null,
   "id": "fd38e97b",
   "metadata": {},
   "outputs": [],
   "source": [
    "df_filtro"
   ]
  },
  {
   "cell_type": "code",
   "execution_count": null,
   "id": "c05601f0",
   "metadata": {},
   "outputs": [],
   "source": [
    "#--------------------------------------- novo teste"
   ]
  },
  {
   "cell_type": "code",
   "execution_count": 301,
   "id": "0cbf1a89",
   "metadata": {
    "scrolled": true
   },
   "outputs": [],
   "source": [
    "clientes = {    'SARA PINHEIRO': \n",
    "\t\t\t\t{'CDB XPTO': 456, \n",
    "\t\t\t\t 'LCI ABCD': 457,\n",
    "\t\t\t\t 'LCA EFGH': 458\n",
    "                },\n",
    "\n",
    "                'IGOR JOHANES': \n",
    "\t\t\t\t{'FII': 121, \n",
    "\t\t\t\t 'EFI123': 243,\n",
    "\t\t\t\t 'FII3': 123\n",
    "                },\n",
    "\n",
    "                'HENRIQUE OLIVEIRA': \n",
    "\t\t\t\t{'MGLU3': 367, \n",
    "\t\t\t\t 'VIIA3': 369,\n",
    "\t\t\t\t 'CPLE6': 747\n",
    "                },\n",
    "\t\t\t \n",
    "                'JOÃO SILVA': \n",
    "\t\t\t\t{'CDB XPTO': 458, \n",
    "\t\t\t\t 'LCI ABCD': 456,\n",
    "                },\n",
    "            \n",
    "                'CRISTINA SOUZA':\n",
    "                {'EFI123': 123,\n",
    "                 'FII3': 234,\n",
    "                 'CPLE6': 748\n",
    "\n",
    "                },\n",
    "            \n",
    "                'RICHARD MOTA':\n",
    "                {'LCA EFGH': 459,\n",
    "                 'VIIA3': 370,\n",
    "                },\n",
    "            \n",
    "                'PAULO HENRIQUE':\n",
    "                {'LCA EFGH': 479,\n",
    "                 'VIIA3': 372,\n",
    "                 'EFI123': 344,\n",
    "                }\n",
    "            \n",
    "}"
   ]
  },
  {
   "cell_type": "code",
   "execution_count": 302,
   "id": "db2b3b40",
   "metadata": {},
   "outputs": [
    {
     "data": {
      "text/plain": [
       "{'CDB XPTO': 456, 'LCI ABCD': 457, 'LCA EFGH': 458}"
      ]
     },
     "execution_count": 302,
     "metadata": {},
     "output_type": "execute_result"
    }
   ],
   "source": [
    "clientes['SARA PINHEIRO']"
   ]
  },
  {
   "cell_type": "code",
   "execution_count": 303,
   "id": "15031e82",
   "metadata": {},
   "outputs": [],
   "source": [
    "def distEuclidianaSimilaridade(usuario1,usuario2):\n",
    "    si = {}\n",
    "    if not usuario1 in clientes: return -1\n",
    "    if not usuario2 in clientes: return -2\n",
    "    for item in clientes[usuario1]:\n",
    "        if item in clientes[usuario2]: \n",
    "            si[item] = 1\n",
    "        \n",
    "    if len(si)==0: \n",
    "        return 0\n",
    "        \n",
    "    soma = sum([pow(clientes[usuario1][item] - clientes[usuario2][item], 2)\n",
    "             for item in clientes[usuario1] if item in clientes[usuario2]])\n",
    "    return 1/(1+sqrt(soma))\n",
    "    # return sqrt(soma)\n",
    "\n",
    "#distancia euclidiada + calculo de similaridade"
   ]
  },
  {
   "cell_type": "code",
   "execution_count": 304,
   "id": "49db68ab",
   "metadata": {},
   "outputs": [
    {
     "data": {
      "text/plain": [
       "0.3090169943749474"
      ]
     },
     "execution_count": 304,
     "metadata": {},
     "output_type": "execute_result"
    }
   ],
   "source": [
    "distEuclidianaSimilaridade('SARA PINHEIRO','JOÃO SILVA')"
   ]
  },
  {
   "cell_type": "code",
   "execution_count": 305,
   "id": "6fbb7557",
   "metadata": {
    "scrolled": true
   },
   "outputs": [
    {
     "data": {
      "text/plain": [
       "0.006080299128364646"
      ]
     },
     "execution_count": 305,
     "metadata": {},
     "output_type": "execute_result"
    }
   ],
   "source": [
    "distEuclidianaSimilaridade('IGOR JOHANES','CRISTINA SOUZA')"
   ]
  },
  {
   "cell_type": "code",
   "execution_count": 306,
   "id": "a67848f0",
   "metadata": {},
   "outputs": [
    {
     "data": {
      "text/plain": [
       "0"
      ]
     },
     "execution_count": 306,
     "metadata": {},
     "output_type": "execute_result"
    }
   ],
   "source": [
    "distEuclidianaSimilaridade('IGOR JOHANES','HENRIQUE OLIVEIRA')"
   ]
  },
  {
   "cell_type": "code",
   "execution_count": 307,
   "id": "00aba409",
   "metadata": {},
   "outputs": [],
   "source": [
    "def similaridade(usuario1, usuario2):\n",
    "  soma = euclidiana(usuario1, usuario2)\n",
    "  return 1/(1+soma)\n",
    "#calculo de similaridade separado"
   ]
  },
  {
   "cell_type": "code",
   "execution_count": 308,
   "id": "dd20a37f",
   "metadata": {},
   "outputs": [
    {
     "data": {
      "text/plain": [
       "0.3090169943749474"
      ]
     },
     "execution_count": 308,
     "metadata": {},
     "output_type": "execute_result"
    }
   ],
   "source": [
    "similaridade('SARA PINHEIRO','JOÃO SILVA')"
   ]
  },
  {
   "cell_type": "code",
   "execution_count": 309,
   "id": "cf534ecc",
   "metadata": {},
   "outputs": [
    {
     "data": {
      "text/plain": [
       "0.006080299128364646"
      ]
     },
     "execution_count": 309,
     "metadata": {},
     "output_type": "execute_result"
    }
   ],
   "source": [
    "similaridade('IGOR JOHANES','CRISTINA SOUZA')"
   ]
  },
  {
   "cell_type": "code",
   "execution_count": 310,
   "id": "2d704dc7",
   "metadata": {},
   "outputs": [
    {
     "data": {
      "text/plain": [
       "-0.5"
      ]
     },
     "execution_count": 310,
     "metadata": {},
     "output_type": "execute_result"
    }
   ],
   "source": [
    "similaridade('IGOR JOHANES','HENRIQUE OLIVEIRA')"
   ]
  },
  {
   "cell_type": "code",
   "execution_count": 311,
   "id": "8e97dff4",
   "metadata": {},
   "outputs": [],
   "source": [
    "def getSimilaridadeUsu(usuario):\n",
    "    listaSimilaridade = [(distEuclidianaSimilaridade(usuario, usuarios), usuarios) \n",
    "                for usuarios in clientes if usuarios != usuario]#pegando todos os usuários diferente do informado\n",
    "    listaSimilaridade.sort()\n",
    "    listaSimilaridade.reverse()\n",
    "    return listaSimilaridade "
   ]
  },
  {
   "cell_type": "code",
   "execution_count": 312,
   "id": "d306577b",
   "metadata": {},
   "outputs": [
    {
     "data": {
      "text/plain": [
       "[(0.00980392156862745, 'PAULO HENRIQUE'),\n",
       " (0.006080299128364646, 'CRISTINA SOUZA'),\n",
       " (0, 'SARA PINHEIRO'),\n",
       " (0, 'RICHARD MOTA'),\n",
       " (0, 'JOÃO SILVA'),\n",
       " (0, 'HENRIQUE OLIVEIRA')]"
      ]
     },
     "execution_count": 312,
     "metadata": {},
     "output_type": "execute_result"
    }
   ],
   "source": [
    "getSimilaridadeUsu('IGOR JOHANES')"
   ]
  },
  {
   "cell_type": "code",
   "execution_count": 313,
   "id": "aee5c502",
   "metadata": {},
   "outputs": [
    {
     "data": {
      "text/plain": [
       "[(0.5, 'RICHARD MOTA'),\n",
       " (0.3090169943749474, 'JOÃO SILVA'),\n",
       " (0.045454545454545456, 'PAULO HENRIQUE'),\n",
       " (0, 'IGOR JOHANES'),\n",
       " (0, 'HENRIQUE OLIVEIRA'),\n",
       " (0, 'CRISTINA SOUZA')]"
      ]
     },
     "execution_count": 313,
     "metadata": {},
     "output_type": "execute_result"
    }
   ],
   "source": [
    "getSimilaridadeUsu('SARA PINHEIRO')"
   ]
  },
  {
   "cell_type": "code",
   "execution_count": 314,
   "id": "9af77747",
   "metadata": {},
   "outputs": [
    {
     "data": {
      "text/plain": [
       "[(0.5, 'RICHARD MOTA'),\n",
       " (0.5, 'CRISTINA SOUZA'),\n",
       " (0.25, 'PAULO HENRIQUE'),\n",
       " (0, 'SARA PINHEIRO'),\n",
       " (0, 'JOÃO SILVA'),\n",
       " (0, 'IGOR JOHANES')]"
      ]
     },
     "execution_count": 314,
     "metadata": {},
     "output_type": "execute_result"
    }
   ],
   "source": [
    "getSimilaridadeUsu('HENRIQUE OLIVEIRA')"
   ]
  },
  {
   "cell_type": "code",
   "execution_count": 315,
   "id": "68fb4779",
   "metadata": {},
   "outputs": [
    {
     "data": {
      "text/plain": [
       "[(0.3090169943749474, 'SARA PINHEIRO'),\n",
       " (0, 'RICHARD MOTA'),\n",
       " (0, 'PAULO HENRIQUE'),\n",
       " (0, 'IGOR JOHANES'),\n",
       " (0, 'HENRIQUE OLIVEIRA'),\n",
       " (0, 'CRISTINA SOUZA')]"
      ]
     },
     "execution_count": 315,
     "metadata": {},
     "output_type": "execute_result"
    }
   ],
   "source": [
    "getSimilaridadeUsu('JOÃO SILVA')"
   ]
  },
  {
   "cell_type": "code",
   "execution_count": 316,
   "id": "3a617d45",
   "metadata": {},
   "outputs": [],
   "source": [
    "def listaClienteSimilar(clientes):\n",
    "    result = {}\n",
    "    for item in clientes:\n",
    "        valor = getSimilaridadeUsu(item)\n",
    "        result[item] = valor\n",
    "    return result\n",
    "#calculamos o valor da similaridade de um cliente com todos da base, para já realizar uma prévia recomendação.\n",
    "#item por usuário"
   ]
  },
  {
   "cell_type": "code",
   "execution_count": 317,
   "id": "349fe1da",
   "metadata": {},
   "outputs": [
    {
     "data": {
      "text/plain": [
       "{'SARA PINHEIRO': [(0.5, 'RICHARD MOTA'),\n",
       "  (0.3090169943749474, 'JOÃO SILVA'),\n",
       "  (0.045454545454545456, 'PAULO HENRIQUE'),\n",
       "  (0, 'IGOR JOHANES'),\n",
       "  (0, 'HENRIQUE OLIVEIRA'),\n",
       "  (0, 'CRISTINA SOUZA')],\n",
       " 'IGOR JOHANES': [(0.00980392156862745, 'PAULO HENRIQUE'),\n",
       "  (0.006080299128364646, 'CRISTINA SOUZA'),\n",
       "  (0, 'SARA PINHEIRO'),\n",
       "  (0, 'RICHARD MOTA'),\n",
       "  (0, 'JOÃO SILVA'),\n",
       "  (0, 'HENRIQUE OLIVEIRA')],\n",
       " 'HENRIQUE OLIVEIRA': [(0.5, 'RICHARD MOTA'),\n",
       "  (0.5, 'CRISTINA SOUZA'),\n",
       "  (0.25, 'PAULO HENRIQUE'),\n",
       "  (0, 'SARA PINHEIRO'),\n",
       "  (0, 'JOÃO SILVA'),\n",
       "  (0, 'IGOR JOHANES')],\n",
       " 'JOÃO SILVA': [(0.3090169943749474, 'SARA PINHEIRO'),\n",
       "  (0, 'RICHARD MOTA'),\n",
       "  (0, 'PAULO HENRIQUE'),\n",
       "  (0, 'IGOR JOHANES'),\n",
       "  (0, 'HENRIQUE OLIVEIRA'),\n",
       "  (0, 'CRISTINA SOUZA')],\n",
       " 'CRISTINA SOUZA': [(0.5, 'HENRIQUE OLIVEIRA'),\n",
       "  (0.006080299128364646, 'IGOR JOHANES'),\n",
       "  (0.0045045045045045045, 'PAULO HENRIQUE'),\n",
       "  (0, 'SARA PINHEIRO'),\n",
       "  (0, 'RICHARD MOTA'),\n",
       "  (0, 'JOÃO SILVA')],\n",
       " 'RICHARD MOTA': [(0.5, 'SARA PINHEIRO'),\n",
       "  (0.5, 'HENRIQUE OLIVEIRA'),\n",
       "  (0.047393923678019305, 'PAULO HENRIQUE'),\n",
       "  (0, 'JOÃO SILVA'),\n",
       "  (0, 'IGOR JOHANES'),\n",
       "  (0, 'CRISTINA SOUZA')],\n",
       " 'PAULO HENRIQUE': [(0.25, 'HENRIQUE OLIVEIRA'),\n",
       "  (0.047393923678019305, 'RICHARD MOTA'),\n",
       "  (0.045454545454545456, 'SARA PINHEIRO'),\n",
       "  (0.00980392156862745, 'IGOR JOHANES'),\n",
       "  (0.0045045045045045045, 'CRISTINA SOUZA'),\n",
       "  (0, 'JOÃO SILVA')]}"
      ]
     },
     "execution_count": 317,
     "metadata": {},
     "output_type": "execute_result"
    }
   ],
   "source": [
    "listaClienteSimilares = listaClienteSimilar(clientes)\n",
    "listaClienteSimilares"
   ]
  },
  {
   "cell_type": "code",
   "execution_count": 318,
   "id": "2c39675c",
   "metadata": {
    "scrolled": true
   },
   "outputs": [
    {
     "name": "stdout",
     "output_type": "stream",
     "text": [
      "           NomeOrigem  Similaridade                                  Destino\n",
      "0       SARA PINHEIRO             0                      (0.5, RICHARD MOTA)\n",
      "1       SARA PINHEIRO             1         (0.3090169943749474, JOÃO SILVA)\n",
      "2       SARA PINHEIRO             2   (0.045454545454545456, PAULO HENRIQUE)\n",
      "3       SARA PINHEIRO             3                        (0, IGOR JOHANES)\n",
      "4       SARA PINHEIRO             4                   (0, HENRIQUE OLIVEIRA)\n",
      "5       SARA PINHEIRO             5                      (0, CRISTINA SOUZA)\n",
      "6        IGOR JOHANES             0    (0.00980392156862745, PAULO HENRIQUE)\n",
      "7        IGOR JOHANES             1   (0.006080299128364646, CRISTINA SOUZA)\n",
      "8        IGOR JOHANES             2                       (0, SARA PINHEIRO)\n",
      "9        IGOR JOHANES             3                        (0, RICHARD MOTA)\n",
      "10       IGOR JOHANES             4                          (0, JOÃO SILVA)\n",
      "11       IGOR JOHANES             5                   (0, HENRIQUE OLIVEIRA)\n",
      "12  HENRIQUE OLIVEIRA             0                      (0.5, RICHARD MOTA)\n",
      "13  HENRIQUE OLIVEIRA             1                    (0.5, CRISTINA SOUZA)\n",
      "14  HENRIQUE OLIVEIRA             2                   (0.25, PAULO HENRIQUE)\n",
      "15  HENRIQUE OLIVEIRA             3                       (0, SARA PINHEIRO)\n",
      "16  HENRIQUE OLIVEIRA             4                          (0, JOÃO SILVA)\n",
      "17  HENRIQUE OLIVEIRA             5                        (0, IGOR JOHANES)\n",
      "18         JOÃO SILVA             0      (0.3090169943749474, SARA PINHEIRO)\n",
      "19         JOÃO SILVA             1                        (0, RICHARD MOTA)\n",
      "20         JOÃO SILVA             2                      (0, PAULO HENRIQUE)\n",
      "21         JOÃO SILVA             3                        (0, IGOR JOHANES)\n",
      "22         JOÃO SILVA             4                   (0, HENRIQUE OLIVEIRA)\n",
      "23         JOÃO SILVA             5                      (0, CRISTINA SOUZA)\n",
      "24     CRISTINA SOUZA             0                 (0.5, HENRIQUE OLIVEIRA)\n",
      "25     CRISTINA SOUZA             1     (0.006080299128364646, IGOR JOHANES)\n",
      "26     CRISTINA SOUZA             2  (0.0045045045045045045, PAULO HENRIQUE)\n",
      "27     CRISTINA SOUZA             3                       (0, SARA PINHEIRO)\n",
      "28     CRISTINA SOUZA             4                        (0, RICHARD MOTA)\n",
      "29     CRISTINA SOUZA             5                          (0, JOÃO SILVA)\n",
      "30       RICHARD MOTA             0                     (0.5, SARA PINHEIRO)\n",
      "31       RICHARD MOTA             1                 (0.5, HENRIQUE OLIVEIRA)\n",
      "32       RICHARD MOTA             2   (0.047393923678019305, PAULO HENRIQUE)\n",
      "33       RICHARD MOTA             3                          (0, JOÃO SILVA)\n",
      "34       RICHARD MOTA             4                        (0, IGOR JOHANES)\n",
      "35       RICHARD MOTA             5                      (0, CRISTINA SOUZA)\n",
      "36     PAULO HENRIQUE             0                (0.25, HENRIQUE OLIVEIRA)\n",
      "37     PAULO HENRIQUE             1     (0.047393923678019305, RICHARD MOTA)\n",
      "38     PAULO HENRIQUE             2    (0.045454545454545456, SARA PINHEIRO)\n",
      "39     PAULO HENRIQUE             3      (0.00980392156862745, IGOR JOHANES)\n",
      "40     PAULO HENRIQUE             4  (0.0045045045045045045, CRISTINA SOUZA)\n",
      "41     PAULO HENRIQUE             5                          (0, JOÃO SILVA)\n"
     ]
    }
   ],
   "source": [
    "df = pd.concat({k: pd.Series(v) \n",
    "                    for k, v in listaClienteSimilares.items()}).reset_index()\n",
    "df.columns = ['NomeOrigem','Similaridade','Destino']\n",
    "print(df)"
   ]
  },
  {
   "cell_type": "code",
   "execution_count": 319,
   "id": "85ebe363",
   "metadata": {},
   "outputs": [],
   "source": [
    "# Gera arquivo saída publico\n",
    "df.to_csv (r'C:/Users/levino/Recomendação/recomendacaoML.csv', index = False, header=True)"
   ]
  },
  {
   "cell_type": "code",
   "execution_count": 320,
   "id": "0420fbc9",
   "metadata": {},
   "outputs": [],
   "source": [
    "#FINALIZADOOOOOOOO!!! \\O/"
   ]
  }
 ],
 "metadata": {
  "kernelspec": {
   "display_name": "Python 3",
   "language": "python",
   "name": "python3"
  },
  "language_info": {
   "codemirror_mode": {
    "name": "ipython",
    "version": 3
   },
   "file_extension": ".py",
   "mimetype": "text/x-python",
   "name": "python",
   "nbconvert_exporter": "python",
   "pygments_lexer": "ipython3",
   "version": "3.8.8"
  }
 },
 "nbformat": 4,
 "nbformat_minor": 5
}
